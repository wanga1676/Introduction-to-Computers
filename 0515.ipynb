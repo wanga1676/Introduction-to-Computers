{
  "nbformat": 4,
  "nbformat_minor": 0,
  "metadata": {
    "colab": {
      "provenance": [],
      "authorship_tag": "ABX9TyNrSvp6uzUTSnb/OeVEBX1y",
      "include_colab_link": true
    },
    "kernelspec": {
      "name": "python3",
      "display_name": "Python 3"
    },
    "language_info": {
      "name": "python"
    }
  },
  "cells": [
    {
      "cell_type": "markdown",
      "metadata": {
        "id": "view-in-github",
        "colab_type": "text"
      },
      "source": [
        "<a href=\"https://colab.research.google.com/github/wanga1676/Introduction-to-Computers/blob/main/0515.ipynb\" target=\"_parent\"><img src=\"https://colab.research.google.com/assets/colab-badge.svg\" alt=\"Open In Colab\"/></a>"
      ]
    },
    {
      "cell_type": "code",
      "execution_count": 1,
      "metadata": {
        "colab": {
          "base_uri": "https://localhost:8080/"
        },
        "id": "MbE3zzgEmomN",
        "outputId": "fb0eea3d-3fed-404b-9973-fdbc7342206b"
      },
      "outputs": [
        {
          "output_type": "stream",
          "name": "stdout",
          "text": [
            "0515\n"
          ]
        }
      ],
      "source": [
        "print(\"0515\")"
      ]
    },
    {
      "cell_type": "code",
      "source": [
        "rain = input(\"今天會下雨嗎? (Y/N): \")\n",
        "\n",
        "if rain == \"Y\" or rain == \"y\":\n",
        "    print(\"出門記得帶傘!\")\n",
        "else:\n",
        "    print(\"不用帶傘\")\n"
      ],
      "metadata": {
        "colab": {
          "base_uri": "https://localhost:8080/"
        },
        "id": "j85Ha0-NtKNs",
        "outputId": "126b6925-eff7-465c-bce8-3cc377ddea1b"
      },
      "execution_count": 19,
      "outputs": [
        {
          "output_type": "stream",
          "name": "stdout",
          "text": [
            "今天會下雨嗎? (Y/N): n.\n",
            "不用帶傘\n"
          ]
        }
      ]
    },
    {
      "cell_type": "code",
      "source": [
        "體溫 = int(input(\"體溫: \"))\n",
        "if 體溫 >= 37.5:\n",
        "    print('體溫過高!')\n",
        "elif 37.4>體溫>37:\n",
        "    print('體溫略高!')\n",
        "elif 36.9>體溫>34:\n",
        "    print('體溫正常!')\n",
        "elif 體溫<34:\n",
        "    print('體溫異常，請重新量測!')"
      ],
      "metadata": {
        "colab": {
          "base_uri": "https://localhost:8080/"
        },
        "id": "1n98YuLyxktx",
        "outputId": "d81ab4a1-d51d-465a-e5f8-595d6b478b39"
      },
      "execution_count": 10,
      "outputs": [
        {
          "output_type": "stream",
          "name": "stdout",
          "text": [
            "體溫: 32\n",
            "體溫異常，請重新量測!\n"
          ]
        }
      ]
    },
    {
      "cell_type": "code",
      "source": [
        "score = int(input(\"請輸入成績: \"))\n",
        "if score >= 90:\n",
        "    print('A')\n",
        "elif 89>= score >= 80:\n",
        "    print('B')\n",
        "elif 79>= score >= 70:\n",
        "    print('C')\n",
        "elif 69>= score >= 60:\n",
        "    print('D')\n",
        "else:\n",
        "    print('E')"
      ],
      "metadata": {
        "colab": {
          "base_uri": "https://localhost:8080/"
        },
        "id": "bWn0GEV_zH3g",
        "outputId": "9fbf3742-c93a-4d5a-be24-9776365c46a8"
      },
      "execution_count": 15,
      "outputs": [
        {
          "output_type": "stream",
          "name": "stdout",
          "text": [
            "請輸入成績: 50\n",
            "E\n"
          ]
        }
      ]
    },
    {
      "cell_type": "code",
      "source": [
        "month = int(input(\"請輸入月份：\"))\n",
        "\n",
        "if month in [3, 4, 5]:\n",
        "    season = \"春天\"\n",
        "elif month in [6, 7, 8]:\n",
        "    season = \"夏天\"\n",
        "elif month in [9, 10, 11]:\n",
        "    season = \"秋天\"\n",
        "elif month in [12, 1, 2]:\n",
        "    season = \"冬天\"\n",
        "else:\n",
        "    season = \"月份不在範圍內!\"\n",
        "\n",
        "print(f\"{month}月是{season}!\")"
      ],
      "metadata": {
        "colab": {
          "base_uri": "https://localhost:8080/"
        },
        "id": "oTskBt5P0fb0",
        "outputId": "507d2c24-592a-42d3-aca0-8be7e46a8902"
      },
      "execution_count": 16,
      "outputs": [
        {
          "output_type": "stream",
          "name": "stdout",
          "text": [
            "請輸入月份：5\n",
            "5月是春天!\n"
          ]
        }
      ]
    },
    {
      "cell_type": "code",
      "source": [
        "income = int(input(\"請輸入今年收入金額: \"))\n",
        "\n",
        "if income >= 2000000:\n",
        "    tax_rate = 0.3\n",
        "elif income >= 1000000:\n",
        "    tax_rate = 0.21\n",
        "elif income >= 600000:\n",
        "    tax_rate = 0.13\n",
        "elif income >= 300000:\n",
        "    tax_rate = 0.06\n",
        "else:\n",
        "    tax_rate = 0\n",
        "\n",
        "tax_amount = income * tax_rate\n",
        "print(f\"付稅金額: {tax_amount}元\")\n"
      ],
      "metadata": {
        "colab": {
          "base_uri": "https://localhost:8080/"
        },
        "id": "l8vuq2dH1Ld9",
        "outputId": "b6aff65c-d9c0-470d-f901-e65870c93c3e"
      },
      "execution_count": 17,
      "outputs": [
        {
          "output_type": "stream",
          "name": "stdout",
          "text": [
            "請輸入今年收入金額: 2000000\n",
            "付稅金額: 600000.0元\n"
          ]
        }
      ]
    }
  ]
}