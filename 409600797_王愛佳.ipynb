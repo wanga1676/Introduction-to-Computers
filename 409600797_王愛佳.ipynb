{
  "nbformat": 4,
  "nbformat_minor": 0,
  "metadata": {
    "colab": {
      "provenance": [],
      "authorship_tag": "ABX9TyPDo/xn4ibXyjWgI+7muaYc",
      "include_colab_link": true
    },
    "kernelspec": {
      "name": "python3",
      "display_name": "Python 3"
    },
    "language_info": {
      "name": "python"
    }
  },
  "cells": [
    {
      "cell_type": "markdown",
      "metadata": {
        "id": "view-in-github",
        "colab_type": "text"
      },
      "source": [
        "<a href=\"https://colab.research.google.com/github/wanga1676/Introduction-to-Computers/blob/main/409600797_%E7%8E%8B%E6%84%9B%E4%BD%B3.ipynb\" target=\"_parent\"><img src=\"https://colab.research.google.com/assets/colab-badge.svg\" alt=\"Open In Colab\"/></a>"
      ]
    },
    {
      "cell_type": "code",
      "source": [
        "print(\"Hello World\")"
      ],
      "metadata": {
        "colab": {
          "base_uri": "https://localhost:8080/"
        },
        "id": "W36CLNZ3Mu0-",
        "outputId": "6419a0af-1512-4a33-8449-a6ed55c146d4"
      },
      "execution_count": 1,
      "outputs": [
        {
          "output_type": "stream",
          "name": "stdout",
          "text": [
            "Hello World\n"
          ]
        }
      ]
    },
    {
      "cell_type": "code",
      "source": [
        "F=100\n",
        "C=(F-32)*5/9\n",
        "print(round(C,1))"
      ],
      "metadata": {
        "colab": {
          "base_uri": "https://localhost:8080/"
        },
        "id": "S2xLlw29RWyE",
        "outputId": "28d8ce22-5c6f-4262-d89b-7610ab39f087"
      },
      "execution_count": 3,
      "outputs": [
        {
          "output_type": "stream",
          "name": "stdout",
          "text": [
            "37.8\n"
          ]
        }
      ]
    },
    {
      "cell_type": "code",
      "source": [
        "n=5\n",
        "sum=0\n",
        "for i in range(1,n+1):\n",
        "  sum += i\n",
        "print(sum)"
      ],
      "metadata": {
        "colab": {
          "base_uri": "https://localhost:8080/"
        },
        "id": "2GlGdZtSSAN9",
        "outputId": "eb3795e0-5749-4f14-87e2-f51f9119f6f2"
      },
      "execution_count": 4,
      "outputs": [
        {
          "output_type": "stream",
          "name": "stdout",
          "text": [
            "15\n"
          ]
        }
      ]
    },
    {
      "cell_type": "code",
      "source": [
        "本金=10000\n",
        "存款=本金*(1.02)**6\n",
        "print(\"本金存款金額為：\",本金)\n",
        "print(\"6年後存款為：\",存款)"
      ],
      "metadata": {
        "colab": {
          "base_uri": "https://localhost:8080/"
        },
        "id": "u2g6yqOoTnQS",
        "outputId": "3db0ebc4-7e17-4471-8515-f6fbb030eb55"
      },
      "execution_count": 8,
      "outputs": [
        {
          "output_type": "stream",
          "name": "stdout",
          "text": [
            "本金存款金額為： 10000\n",
            "6年後存款為： 11261.62419264\n"
          ]
        }
      ]
    }
  ]
}